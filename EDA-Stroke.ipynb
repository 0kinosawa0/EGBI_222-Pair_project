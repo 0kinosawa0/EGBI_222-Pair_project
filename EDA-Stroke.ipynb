{
 "cells": [
  {
   "cell_type": "markdown",
   "id": "6448aaec",
   "metadata": {},
   "source": [
    "# 🧠 Stroke Prediction – Exploratory Data Analysis (EDA)\n",
    "This notebook performs a complete EDA on the Stroke Prediction dataset from Kaggle.\n",
    "It includes data cleaning, visualization, and statistical summaries.\n"
   ]
  },
  {
   "cell_type": "markdown",
   "id": "5745f924",
   "metadata": {},
   "source": [
    "## 1. Import Libraries"
   ]
  },
  {
   "cell_type": "code",
   "execution_count": null,
   "id": "816c5e53",
   "metadata": {},
   "outputs": [],
   "source": [
    "import os, sys\n",
    "import pandas as pd\n",
    "import numpy as np\n",
    "import seaborn as sns\n",
    "import matplotlib.pyplot as plt\n",
    "\n",
    "sns.set(style='whitegrid')\n",
    "plt.rcParams['figure.figsize'] = (9,5)\n"
   ]
  },
  {
   "cell_type": "markdown",
   "id": "0fe1a716",
   "metadata": {},
   "source": [
    "## 2. Load Dataset"
   ]
  },
  {
   "cell_type": "code",
   "execution_count": null,
   "id": "a3792957",
   "metadata": {},
   "outputs": [],
   "source": [
    "def autodetect_csv():\n",
    "    for f in os.listdir():\n",
    "        if f.lower().endswith('.csv') and 'stroke' in f.lower():\n",
    "            return f\n",
    "    for f in os.listdir():\n",
    "        if f.lower().endswith('.csv'):\n",
    "            return f\n",
    "    return None\n",
    "\n",
    "csv_path = autodetect_csv()\n",
    "if not csv_path:\n",
    "    raise FileNotFoundError('❌ CSV file not found in directory.')\n",
    "print(f'✅ Using CSV: {csv_path}')\n",
    "df = pd.read_csv(csv_path)\n",
    "df.head()"
   ]
  },
  {
   "cell_type": "markdown",
   "id": "5e9c61b8",
   "metadata": {},
   "source": [
    "## 3. Data Cleaning and Preprocessing"
   ]
  },
  {
   "cell_type": "code",
   "execution_count": null,
   "id": "c41be644",
   "metadata": {},
   "outputs": [],
   "source": [
    "df.columns = [c.strip().lower().replace(' ', '_') for c in df.columns]\n",
    "\n",
    "for col in ['age', 'avg_glucose_level', 'bmi']:\n",
    "    if col in df.columns:\n",
    "        df[col] = pd.to_numeric(df[col], errors='coerce')\n",
    "\n",
    "if 'bmi' in df.columns and df['bmi'].isna().any():\n",
    "    df['bmi'] = df['bmi'].fillna(df['bmi'].median())\n",
    "\n",
    "for id_candidate in ['id', 'patient_id']:\n",
    "    if id_candidate in df.columns:\n",
    "        df.drop(columns=[id_candidate], inplace=True)\n",
    "\n",
    "if 'stroke' in df.columns:\n",
    "    df['stroke'] = pd.to_numeric(df['stroke'], errors='coerce').fillna(0).astype(int)\n",
    "\n",
    "if 'age' in df.columns:\n",
    "    df['age_group'] = pd.cut(\n",
    "        df['age'], bins=[0,30,45,60,200],\n",
    "        labels=['<30', '30–45', '45–60', '60+'],\n",
    "        include_lowest=True\n",
    "    )\n",
    "df.info()"
   ]
  },
  {
   "cell_type": "markdown",
   "id": "7500f224",
   "metadata": {},
   "source": [
    "## 4. Visualizations"
   ]
  },
  {
   "cell_type": "code",
   "execution_count": null,
   "id": "9f53f23c",
   "metadata": {},
   "outputs": [],
   "source": [
    "# Gender Distribution\n",
    "if 'gender' in df.columns:\n",
    "    sns.countplot(x='gender', data=df, order=df['gender'].value_counts().index)\n",
    "    plt.title('Number of Patients by Gender')\n",
    "    plt.show()\n",
    "\n",
    "# Age Distribution\n",
    "if 'age' in df.columns:\n",
    "    sns.histplot(df['age'].dropna(), bins=25, kde=True)\n",
    "    plt.title('Age Distribution')\n",
    "    plt.show()\n",
    "\n",
    "# Stroke Rate by Gender\n",
    "if 'stroke' in df.columns and 'gender' in df.columns:\n",
    "    rate_by_gender = df.groupby('gender')['stroke'].mean().sort_values(ascending=False)\n",
    "    sns.barplot(x=rate_by_gender.index, y=rate_by_gender.values)\n",
    "    plt.title('Stroke Rate by Gender')\n",
    "    plt.show()\n",
    "\n",
    "# Stroke Rate by Age Group\n",
    "if 'stroke' in df.columns and 'age_group' in df.columns:\n",
    "    rate_by_age = df.groupby('age_group')['stroke'].mean()\n",
    "    sns.barplot(x=rate_by_age.index, y=rate_by_age.values)\n",
    "    plt.title('Stroke Rate by Age Group')\n",
    "    plt.show()\n",
    "\n",
    "# Glucose Level by Stroke Outcome\n",
    "if 'avg_glucose_level' in df.columns and 'stroke' in df.columns:\n",
    "    sns.kdeplot(data=df, x='avg_glucose_level', hue='stroke', common_norm=False)\n",
    "    plt.title('Glucose Level by Stroke Outcome')\n",
    "    plt.show()\n",
    "\n",
    "# BMI by Stroke Outcome\n",
    "if 'bmi' in df.columns and 'stroke' in df.columns:\n",
    "    sns.kdeplot(data=df, x='bmi', hue='stroke', common_norm=False)\n",
    "    plt.title('BMI by Stroke Outcome')\n",
    "    plt.show()\n",
    "\n",
    "# Stroke Rate by Smoking Status\n",
    "if 'smoking_status' in df.columns and 'stroke' in df.columns:\n",
    "    order = df['smoking_status'].value_counts().index\n",
    "    sns.barplot(x='smoking_status', y='stroke', data=df, order=order, estimator=np.mean)\n",
    "    plt.title('Stroke Rate by Smoking Status')\n",
    "    plt.xticks(rotation=20)\n",
    "    plt.show()"
   ]
  },
  {
   "cell_type": "markdown",
   "id": "4feb73be",
   "metadata": {},
   "source": [
    "## 5. Correlation Analysis"
   ]
  },
  {
   "cell_type": "code",
   "execution_count": null,
   "id": "46bb84e3",
   "metadata": {},
   "outputs": [],
   "source": [
    "num = df.select_dtypes(include=[np.number])\n",
    "if not num.empty:\n",
    "    corr = num.corr()\n",
    "    corr_pairs = corr.unstack().sort_values(key=np.abs, ascending=False)\n",
    "    corr_pairs = corr_pairs[corr_pairs != 1]\n",
    "    top_corr = corr_pairs.drop_duplicates().head(5)\n",
    "\n",
    "    print('Top 5 strongest numeric relationships:')\n",
    "    for (a, b), v in top_corr.items():\n",
    "        print(f' - {a} ↔ {b}: r = {v:.2f}')\n",
    "\n",
    "    strong = corr[(corr > 0.5) | (corr < -0.5)]\n",
    "    if strong.notna().any().any():\n",
    "        sns.heatmap(strong, annot=True, cmap='coolwarm', fmt='.2f')\n",
    "        plt.title('Simplified Correlation (|r| > 0.5)')\n",
    "        plt.show()"
   ]
  },
  {
   "cell_type": "markdown",
   "id": "22278845",
   "metadata": {},
   "source": [
    "## 6. Summary Notes"
   ]
  },
  {
   "cell_type": "code",
   "execution_count": null,
   "id": "220e2d73",
   "metadata": {},
   "outputs": [],
   "source": [
    "print('✅ EDA Complete! All plots displayed inline.')"
   ]
  }
 ],
 "metadata": {},
 "nbformat": 4,
 "nbformat_minor": 5
}
